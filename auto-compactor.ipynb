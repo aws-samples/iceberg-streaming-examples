{
 "cells": [
  {
   "cell_type": "markdown",
   "id": "1bfb0306-a739-4274-a7eb-87460a06d327",
   "metadata": {},
   "source": [
    "The following cell configures a new Spark Catalog called **iceberg_catalog** which is compatible with the Glue Data Catalog and has support for Iceberg tables. The `spark.sql.catalog.<catalog_name>.warehouse` property is used to set up the default location for databases and tables created within the **iceberg_catalog**.\n",
    "\n",
    "**Action needed:** Update the property `spark.sql.catalog.iceberg_catalog.warehouse` and replace the **S3 bucket** placeholder.\n"
   ]
  },
  {
   "cell_type": "code",
   "execution_count": null,
   "id": "1964f203-42dd-4260-a242-0535bc7bff24",
   "metadata": {
    "executionRoleArn": "arn:aws:iam::378683551918:role/EMRSTUDIORUNTIME",
    "tags": []
   },
   "outputs": [],
   "source": [
    "%%configure -f\n",
    "{   \"numExecutors\": 20, \n",
    "    \"executorMemory\": \"27G\",\n",
    "    \"executorCores\": 4, \n",
    "    \"conf\": {\n",
    "         \"spark.sql.catalog.iceberg_catalog.warehouse\":\"s3://<s3bucket>/warehouse/bigdata.db/employeeauto/\",\n",
    "         \"spark.sql.extensions\":\"org.apache.iceberg.spark.extensions.IcebergSparkSessionExtensions\",\n",
    "         \"spark.sql.catalog.iceberg_catalog\":\"org.apache.iceberg.spark.SparkCatalog\",\n",
    "         \"spark.sql.catalog.iceberg_catalog.catalog-impl\":\"org.apache.iceberg.aws.glue.GlueCatalog\",\n",
    "         \"spark.hadoop.hive.metastore.client.factory.class\":\"com.amazonaws.glue.catalog.metastore.AWSGlueDataCatalogHiveClientFactory\",\n",
    "         \"spark.dynamicAllocation.enabled\": \"false\",\n",
    "         \"spark.emr-serverless.executor.disk\":\"50G\"\n",
    "    }\n",
    "}"
   ]
  },
  {
   "cell_type": "markdown",
   "id": "4176f960-9428-4d06-8bca-21ec8f8cb762",
   "metadata": {},
   "source": [
    "**We get the post ingestion snapshot to rollback later on.**"
   ]
  },
  {
   "cell_type": "code",
   "execution_count": null,
   "id": "89029d72-bc50-4954-80db-d3d31df46bb5",
   "metadata": {
    "executionRoleArn": "arn:aws:iam::378683551918:role/EMRSTUDIORUNTIME",
    "tags": []
   },
   "outputs": [],
   "source": [
    "%%local\n",
    "import pandas as pd\n",
    "pd.set_option('display.max_colwidth', 10000)"
   ]
  },
  {
   "cell_type": "code",
   "execution_count": null,
   "id": "b99da829-8117-4baa-8b62-9630e071f4ca",
   "metadata": {
    "executionRoleArn": "arn:aws:iam::378683551918:role/EMRSTUDIORUNTIME",
    "tags": []
   },
   "outputs": [],
   "source": [
    "%%sql\n",
    "\n",
    "SELECT *\n",
    "    FROM iceberg_catalog.bigdata.employeeauto.snapshots\n",
    "    ORDER BY committed_at DESC Limit 5\n"
   ]
  },
  {
   "cell_type": "code",
   "execution_count": null,
   "id": "10cf3d8b-ad6c-47b2-8829-32a3eced0cf1",
   "metadata": {
    "executionRoleArn": "arn:aws:iam::378683551918:role/EMRSTUDIORUNTIME",
    "tags": []
   },
   "outputs": [],
   "source": [
    "oldest_snapshot = spark.sql(f\"\"\"\n",
    "    SELECT snapshot_id\n",
    "    FROM iceberg_catalog.bigdata.employeeauto.snapshots\n",
    "    ORDER BY committed_at ASC\n",
    "    \"\"\").collect()[-1]['snapshot_id']\n",
    "\n",
    "\n",
    "current_snapshot_timestamp = spark.sql(f\"\"\"\n",
    "    SELECT made_current_at\n",
    "    FROM iceberg_catalog.bigdata.employeeauto.history\n",
    "    WHERE snapshot_id = {oldest_snapshot}\n",
    "    ORDER BY made_current_at DESC\n",
    "    \"\"\").collect()[0]['made_current_at']\n",
    "print(f\"Post ingestion snapshot timestamp: {current_snapshot_timestamp}, Post Ingestion snapshot id: {oldest_snapshot} \")"
   ]
  },
  {
   "cell_type": "markdown",
   "id": "7bde7488-f4a2-46b8-87ab-82985f5052c2",
   "metadata": {
    "execution": {
     "iopub.execute_input": "2024-11-04T06:50:16.522538Z",
     "iopub.status.busy": "2024-11-04T06:50:16.522046Z",
     "iopub.status.idle": "2024-11-04T06:50:16.721068Z",
     "shell.execute_reply": "2024-11-04T06:50:16.720552Z",
     "shell.execute_reply.started": "2024-11-04T06:50:16.522516Z"
    },
    "executionRoleArn": "arn:aws:iam::378683551918:role/EMRSTUDIORUNTIME",
    "tags": []
   },
   "source": [
    "**The query that will delete the data in intervals from one minute. You need to change the starting (start) and ending (end) dates according to your test.**\n",
    "\n",
    "Example '2024-10-31 00:00:00' "
   ]
  },
  {
   "cell_type": "code",
   "execution_count": null,
   "id": "61f4bb70-4c5c-4ebc-90f1-74976e304286",
   "metadata": {
    "executionRoleArn": "arn:aws:iam::378683551918:role/EMRSTUDIORUNTIME",
    "tags": []
   },
   "outputs": [],
   "source": [
    "spark.sql(f\"\"\" \n",
    "\n",
    "DELETE FROM iceberg_catalog.bigdata.employeeauto\n",
    "WHERE start_date BETWEEN 'start' AND 'end'\n",
    "AND SECOND(start_date) % 2 = 0\n",
    "  \n",
    "\"\"\")\n"
   ]
  },
  {
   "cell_type": "markdown",
   "id": "e78c9fc3-031e-4353-a0a0-38eda70af61f",
   "metadata": {
    "execution": {
     "iopub.execute_input": "2024-11-04T07:08:34.277332Z",
     "iopub.status.busy": "2024-11-04T07:08:34.276936Z",
     "iopub.status.idle": "2024-11-04T07:08:34.528466Z",
     "shell.execute_reply": "2024-11-04T07:08:34.528030Z",
     "shell.execute_reply.started": "2024-11-04T07:08:34.277311Z"
    },
    "executionRoleArn": "arn:aws:iam::378683551918:role/EMRSTUDIORUNTIME",
    "tags": []
   },
   "source": [
    "**Now we look to our snapshot table and we should have many position delete files ( remember that we are using a MoR table)**"
   ]
  },
  {
   "cell_type": "code",
   "execution_count": null,
   "id": "bea40be2-0dc1-4943-b0c9-8155255d3da0",
   "metadata": {
    "executionRoleArn": "arn:aws:iam::378683551918:role/EMRSTUDIORUNTIME",
    "tags": []
   },
   "outputs": [],
   "source": [
    "%%sql\n",
    "\n",
    "SELECT *\n",
    "    FROM iceberg_catalog.bigdata.employeeauto.snapshots\n",
    "    ORDER BY committed_at DESC Limit 5\n"
   ]
  },
  {
   "cell_type": "markdown",
   "id": "81f54bee-b530-402f-aa6b-209495d1d953",
   "metadata": {
    "executionRoleArn": "arn:aws:iam::378683551918:role/EMRSTUDIORUNTIME",
    "tags": []
   },
   "source": [
    "**Rollback to post ingestion state.**"
   ]
  },
  {
   "cell_type": "raw",
   "id": "23f2e54e-1d38-4fd7-8cbe-182aefebad6b",
   "metadata": {},
   "source": [
    "rollback_query = f\"\"\"\n",
    "    CALL iceberg_catalog.system.rollback_to_snapshot('iceberg_catalog.bigdata.employeeauto', {oldest_snapshot})\n",
    "    \"\"\"\n",
    "spark.sql(rollback_query).show()\n"
   ]
  },
  {
   "cell_type": "code",
   "execution_count": null,
   "id": "be96edec-b704-4918-9d21-6832f5d1bedd",
   "metadata": {
    "executionRoleArn": "arn:aws:iam::378683551918:role/EMRSTUDIORUNTIME",
    "tags": []
   },
   "outputs": [],
   "source": [
    "expire_query = f\"\"\"\n",
    "    CALL iceberg_catalog.system.expire_snapshots(\n",
    "        'iceberg_catalog.bigdata.employeeauto',\n",
    "        TIMESTAMP '{current_snapshot_timestamp}')\n",
    "    \"\"\"    \n",
    "spark.sql(expire_query)"
   ]
  },
  {
   "cell_type": "markdown",
   "id": "beda9caa-8eb4-498d-ba51-d5c91bb9b516",
   "metadata": {},
   "source": [
    "**DISABLE the Glue Optimizers for the table here, then issue this query to delete the data again**"
   ]
  },
  {
   "cell_type": "code",
   "execution_count": null,
   "id": "1453cd38-7b8f-4d58-b54e-2d1cb1bb5c17",
   "metadata": {
    "executionRoleArn": "arn:aws:iam::378683551918:role/EMRSTUDIORUNTIME",
    "tags": []
   },
   "outputs": [],
   "source": [
    "%%sql\n",
    "\n",
    "spark.sql(f\"\"\" \n",
    "\n",
    "DELETE FROM iceberg_catalog.bigdata.employeeauto\n",
    "WHERE start_date BETWEEN '2024-10-31 00:00:00' AND '2024-11-02 00:00:00'\n",
    "AND SECOND(start_date) % 2 = 0\n",
    "  \n",
    "\"\"\")"
   ]
  },
  {
   "cell_type": "code",
   "execution_count": null,
   "id": "4cdde7a4-34e1-4b2b-8746-bcb8fec8825b",
   "metadata": {},
   "outputs": [],
   "source": []
  }
 ],
 "metadata": {
  "kernelspec": {
   "display_name": "PySpark",
   "language": "python",
   "name": "spark_magic_pyspark"
  },
  "language_info": {
   "codemirror_mode": {
    "name": "python",
    "version": 3
   },
   "file_extension": ".py",
   "mimetype": "text/x-python",
   "name": "pyspark",
   "pygments_lexer": "python3"
  }
 },
 "nbformat": 4,
 "nbformat_minor": 5
}
